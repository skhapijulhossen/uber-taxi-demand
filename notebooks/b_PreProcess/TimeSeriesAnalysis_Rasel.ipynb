{
 "cells": [
  {
   "cell_type": "markdown",
   "id": "967ed06e-d2da-41d8-90a2-a17ab11869b9",
   "metadata": {},
   "source": [
    "# Import Necessary Libraries"
   ]
  },
  {
   "cell_type": "code",
   "execution_count": 85,
   "id": "439d2993-33fc-4942-b34a-ae5de72a20e6",
   "metadata": {},
   "outputs": [],
   "source": [
    "import numpy as np\n",
    "import pandas as pd\n",
    "import matplotlib.pyplot as plt\n",
    "import seaborn as sns\n",
    "import dask.dataframe as dd\n",
    "\n",
    "from dask.distributed import Client, LocalCluster\n",
    "from statsmodels.tsa.stattools import adfuller\n",
    "\n",
    "%matplotlib inline"
   ]
  },
  {
   "cell_type": "markdown",
   "id": "925fd30f-503c-4bda-bc9f-d3fcc456f693",
   "metadata": {},
   "source": [
    "# Loading Data"
   ]
  },
  {
   "cell_type": "code",
   "execution_count": 86,
   "id": "1203ec04-3691-4f55-9cac-56738644ec43",
   "metadata": {},
   "outputs": [
    {
     "data": {
      "text/html": [
       "<div>\n",
       "<style scoped>\n",
       "    .dataframe tbody tr th:only-of-type {\n",
       "        vertical-align: middle;\n",
       "    }\n",
       "\n",
       "    .dataframe tbody tr th {\n",
       "        vertical-align: top;\n",
       "    }\n",
       "\n",
       "    .dataframe thead th {\n",
       "        text-align: right;\n",
       "    }\n",
       "</style>\n",
       "<table border=\"1\" class=\"dataframe\">\n",
       "  <thead>\n",
       "    <tr style=\"text-align: right;\">\n",
       "      <th></th>\n",
       "      <th>tpep_pickup_datetime</th>\n",
       "      <th>passenger_count</th>\n",
       "      <th>VendorID</th>\n",
       "      <th>PULocationID</th>\n",
       "    </tr>\n",
       "  </thead>\n",
       "  <tbody>\n",
       "    <tr>\n",
       "      <th>0</th>\n",
       "      <td>2022-03-31 15:00:00</td>\n",
       "      <td>4</td>\n",
       "      <td>4</td>\n",
       "      <td>4.0</td>\n",
       "    </tr>\n",
       "    <tr>\n",
       "      <th>1</th>\n",
       "      <td>2022-03-31 16:00:00</td>\n",
       "      <td>3</td>\n",
       "      <td>3</td>\n",
       "      <td>3.0</td>\n",
       "    </tr>\n",
       "    <tr>\n",
       "      <th>2</th>\n",
       "      <td>2022-03-31 17:00:00</td>\n",
       "      <td>0</td>\n",
       "      <td>0</td>\n",
       "      <td>0.0</td>\n",
       "    </tr>\n",
       "    <tr>\n",
       "      <th>3</th>\n",
       "      <td>2022-03-31 18:00:00</td>\n",
       "      <td>0</td>\n",
       "      <td>0</td>\n",
       "      <td>0.0</td>\n",
       "    </tr>\n",
       "    <tr>\n",
       "      <th>4</th>\n",
       "      <td>2022-03-31 19:00:00</td>\n",
       "      <td>0</td>\n",
       "      <td>0</td>\n",
       "      <td>0.0</td>\n",
       "    </tr>\n",
       "  </tbody>\n",
       "</table>\n",
       "</div>"
      ],
      "text/plain": [
       "  tpep_pickup_datetime  passenger_count  VendorID  PULocationID\n",
       "0  2022-03-31 15:00:00                4         4           4.0\n",
       "1  2022-03-31 16:00:00                3         3           3.0\n",
       "2  2022-03-31 17:00:00                0         0           0.0\n",
       "3  2022-03-31 18:00:00                0         0           0.0\n",
       "4  2022-03-31 19:00:00                0         0           0.0"
      ]
     },
     "execution_count": 86,
     "metadata": {},
     "output_type": "execute_result"
    }
   ],
   "source": [
    "df = dd.read_csv(\"C:/Users/SRA/Desktop/backup/C/MLgrit/time_series_project/uber-taxi-demand/data/2022.parquet.csv\")\n",
    "df.compute().head()"
   ]
  },
  {
   "cell_type": "code",
   "execution_count": 87,
   "id": "a094e783-9ebb-45ca-b015-d067225090f4",
   "metadata": {},
   "outputs": [
    {
     "data": {
      "text/html": [
       "<div>\n",
       "<style scoped>\n",
       "    .dataframe tbody tr th:only-of-type {\n",
       "        vertical-align: middle;\n",
       "    }\n",
       "\n",
       "    .dataframe tbody tr th {\n",
       "        vertical-align: top;\n",
       "    }\n",
       "\n",
       "    .dataframe thead th {\n",
       "        text-align: right;\n",
       "    }\n",
       "</style>\n",
       "<table border=\"1\" class=\"dataframe\">\n",
       "  <thead>\n",
       "    <tr style=\"text-align: right;\">\n",
       "      <th></th>\n",
       "      <th>tpep_pickup_datetime</th>\n",
       "      <th>passenger_count</th>\n",
       "      <th>VendorID</th>\n",
       "      <th>PULocationID</th>\n",
       "    </tr>\n",
       "  </thead>\n",
       "  <tbody>\n",
       "    <tr>\n",
       "      <th>21619</th>\n",
       "      <td>2022-09-30 19:00:00</td>\n",
       "      <td>12107</td>\n",
       "      <td>8576</td>\n",
       "      <td>8576.0</td>\n",
       "    </tr>\n",
       "    <tr>\n",
       "      <th>21620</th>\n",
       "      <td>2022-09-30 20:00:00</td>\n",
       "      <td>9959</td>\n",
       "      <td>6905</td>\n",
       "      <td>6905.0</td>\n",
       "    </tr>\n",
       "    <tr>\n",
       "      <th>21621</th>\n",
       "      <td>2022-09-30 21:00:00</td>\n",
       "      <td>10046</td>\n",
       "      <td>6894</td>\n",
       "      <td>6894.0</td>\n",
       "    </tr>\n",
       "    <tr>\n",
       "      <th>21622</th>\n",
       "      <td>2022-09-30 22:00:00</td>\n",
       "      <td>10244</td>\n",
       "      <td>6999</td>\n",
       "      <td>6999.0</td>\n",
       "    </tr>\n",
       "    <tr>\n",
       "      <th>21623</th>\n",
       "      <td>2022-09-30 23:00:00</td>\n",
       "      <td>9633</td>\n",
       "      <td>6547</td>\n",
       "      <td>6547.0</td>\n",
       "    </tr>\n",
       "  </tbody>\n",
       "</table>\n",
       "</div>"
      ],
      "text/plain": [
       "      tpep_pickup_datetime  passenger_count  VendorID  PULocationID\n",
       "21619  2022-09-30 19:00:00            12107      8576        8576.0\n",
       "21620  2022-09-30 20:00:00             9959      6905        6905.0\n",
       "21621  2022-09-30 21:00:00            10046      6894        6894.0\n",
       "21622  2022-09-30 22:00:00            10244      6999        6999.0\n",
       "21623  2022-09-30 23:00:00             9633      6547        6547.0"
      ]
     },
     "execution_count": 87,
     "metadata": {},
     "output_type": "execute_result"
    }
   ],
   "source": [
    "df.compute().tail()"
   ]
  },
  {
   "cell_type": "code",
   "execution_count": 88,
   "id": "aa8724e6-1257-4417-85bb-d138599febb9",
   "metadata": {},
   "outputs": [
    {
     "name": "stdout",
     "output_type": "stream",
     "text": [
      "<class 'pandas.core.frame.DataFrame'>\n",
      "RangeIndex: 21624 entries, 0 to 21623\n",
      "Data columns (total 4 columns):\n",
      " #   Column                Non-Null Count  Dtype  \n",
      "---  ------                --------------  -----  \n",
      " 0   tpep_pickup_datetime  21624 non-null  string \n",
      " 1   passenger_count       21624 non-null  int64  \n",
      " 2   VendorID              21624 non-null  int64  \n",
      " 3   PULocationID          21624 non-null  float64\n",
      "dtypes: float64(1), int64(2), string(1)\n",
      "memory usage: 992.6 KB\n"
     ]
    }
   ],
   "source": [
    "df.compute().info()"
   ]
  },
  {
   "cell_type": "code",
   "execution_count": 89,
   "id": "73aa3936-d412-451f-87e8-56abdc1f8d92",
   "metadata": {},
   "outputs": [
    {
     "data": {
      "text/html": [
       "<div>\n",
       "<style scoped>\n",
       "    .dataframe tbody tr th:only-of-type {\n",
       "        vertical-align: middle;\n",
       "    }\n",
       "\n",
       "    .dataframe tbody tr th {\n",
       "        vertical-align: top;\n",
       "    }\n",
       "\n",
       "    .dataframe thead th {\n",
       "        text-align: right;\n",
       "    }\n",
       "</style>\n",
       "<table border=\"1\" class=\"dataframe\">\n",
       "  <thead>\n",
       "    <tr style=\"text-align: right;\">\n",
       "      <th></th>\n",
       "      <th>passenger_count</th>\n",
       "      <th>VendorID</th>\n",
       "      <th>PULocationID</th>\n",
       "    </tr>\n",
       "  </thead>\n",
       "  <tbody>\n",
       "    <tr>\n",
       "      <th>count</th>\n",
       "      <td>21624.000000</td>\n",
       "      <td>21624.000000</td>\n",
       "      <td>21624.000000</td>\n",
       "    </tr>\n",
       "    <tr>\n",
       "      <th>mean</th>\n",
       "      <td>2549.634758</td>\n",
       "      <td>1833.866260</td>\n",
       "      <td>1833.866260</td>\n",
       "    </tr>\n",
       "    <tr>\n",
       "      <th>std</th>\n",
       "      <td>3826.749732</td>\n",
       "      <td>2745.905933</td>\n",
       "      <td>2745.905933</td>\n",
       "    </tr>\n",
       "    <tr>\n",
       "      <th>min</th>\n",
       "      <td>0.000000</td>\n",
       "      <td>0.000000</td>\n",
       "      <td>0.000000</td>\n",
       "    </tr>\n",
       "    <tr>\n",
       "      <th>25%</th>\n",
       "      <td>0.000000</td>\n",
       "      <td>0.000000</td>\n",
       "      <td>0.000000</td>\n",
       "    </tr>\n",
       "    <tr>\n",
       "      <th>50%</th>\n",
       "      <td>0.000000</td>\n",
       "      <td>0.000000</td>\n",
       "      <td>0.000000</td>\n",
       "    </tr>\n",
       "    <tr>\n",
       "      <th>75%</th>\n",
       "      <td>5685.000000</td>\n",
       "      <td>4103.250000</td>\n",
       "      <td>4103.250000</td>\n",
       "    </tr>\n",
       "    <tr>\n",
       "      <th>max</th>\n",
       "      <td>14770.000000</td>\n",
       "      <td>10527.000000</td>\n",
       "      <td>10527.000000</td>\n",
       "    </tr>\n",
       "  </tbody>\n",
       "</table>\n",
       "</div>"
      ],
      "text/plain": [
       "       passenger_count      VendorID  PULocationID\n",
       "count     21624.000000  21624.000000  21624.000000\n",
       "mean       2549.634758   1833.866260   1833.866260\n",
       "std        3826.749732   2745.905933   2745.905933\n",
       "min           0.000000      0.000000      0.000000\n",
       "25%           0.000000      0.000000      0.000000\n",
       "50%           0.000000      0.000000      0.000000\n",
       "75%        5685.000000   4103.250000   4103.250000\n",
       "max       14770.000000  10527.000000  10527.000000"
      ]
     },
     "execution_count": 89,
     "metadata": {},
     "output_type": "execute_result"
    }
   ],
   "source": [
    "df.compute().describe()"
   ]
  },
  {
   "cell_type": "code",
   "execution_count": 90,
   "id": "57df850d-c718-42d2-bbab-6018db930511",
   "metadata": {},
   "outputs": [
    {
     "name": "stdout",
     "output_type": "stream",
     "text": [
      "<class 'pandas.core.frame.DataFrame'>\n",
      "RangeIndex: 21624 entries, 0 to 21623\n",
      "Data columns (total 4 columns):\n",
      " #   Column                Non-Null Count  Dtype         \n",
      "---  ------                --------------  -----         \n",
      " 0   tpep_pickup_datetime  21624 non-null  datetime64[ns]\n",
      " 1   passenger_count       21624 non-null  int64         \n",
      " 2   VendorID              21624 non-null  int64         \n",
      " 3   PULocationID          21624 non-null  float64       \n",
      "dtypes: datetime64[ns](1), float64(1), int64(2)\n",
      "memory usage: 675.9 KB\n"
     ]
    }
   ],
   "source": [
    "df.tpep_pickup_datetime = dd.to_datetime(df.tpep_pickup_datetime)\n",
    "df.compute().info()"
   ]
  },
  {
   "cell_type": "code",
   "execution_count": 91,
   "id": "9d9fa36b-0da6-4d9c-80ff-9effdccaef09",
   "metadata": {},
   "outputs": [
    {
     "data": {
      "text/plain": [
       "13"
      ]
     },
     "execution_count": 91,
     "metadata": {},
     "output_type": "execute_result"
    }
   ],
   "source": [
    "df.compute().loc[0, 'tpep_pickup_datetime'].weekofyear"
   ]
  },
  {
   "cell_type": "code",
   "execution_count": 92,
   "id": "64d7587c-eb8b-48e4-839d-1c46ce78031b",
   "metadata": {},
   "outputs": [
    {
     "data": {
      "text/plain": [
       "90"
      ]
     },
     "execution_count": 92,
     "metadata": {},
     "output_type": "execute_result"
    }
   ],
   "source": [
    "df.compute().loc[0, 'tpep_pickup_datetime'].dayofyear"
   ]
  },
  {
   "cell_type": "code",
   "execution_count": 93,
   "id": "99a032f7-3f31-41a0-9922-f43ba14ae993",
   "metadata": {},
   "outputs": [],
   "source": [
    "######## Day, Month, Hour"
   ]
  },
  {
   "cell_type": "code",
   "execution_count": 94,
   "id": "abd0dc9d-e5fa-4415-a300-fc6b2f0b9d82",
   "metadata": {},
   "outputs": [
    {
     "data": {
      "text/html": [
       "<div>\n",
       "<style scoped>\n",
       "    .dataframe tbody tr th:only-of-type {\n",
       "        vertical-align: middle;\n",
       "    }\n",
       "\n",
       "    .dataframe tbody tr th {\n",
       "        vertical-align: top;\n",
       "    }\n",
       "\n",
       "    .dataframe thead th {\n",
       "        text-align: right;\n",
       "    }\n",
       "</style>\n",
       "<table border=\"1\" class=\"dataframe\">\n",
       "  <thead>\n",
       "    <tr style=\"text-align: right;\">\n",
       "      <th></th>\n",
       "      <th>passenger_count</th>\n",
       "      <th>VendorID</th>\n",
       "      <th>PULocationID</th>\n",
       "    </tr>\n",
       "    <tr>\n",
       "      <th>tpep_pickup_datetime</th>\n",
       "      <th></th>\n",
       "      <th></th>\n",
       "      <th></th>\n",
       "    </tr>\n",
       "  </thead>\n",
       "  <tbody>\n",
       "    <tr>\n",
       "      <th>2022-01-01 00:00:00</th>\n",
       "      <td>6838</td>\n",
       "      <td>4261</td>\n",
       "      <td>4261.0</td>\n",
       "    </tr>\n",
       "    <tr>\n",
       "      <th>2022-01-01 01:00:00</th>\n",
       "      <td>7738</td>\n",
       "      <td>4997</td>\n",
       "      <td>4997.0</td>\n",
       "    </tr>\n",
       "    <tr>\n",
       "      <th>2022-01-01 02:00:00</th>\n",
       "      <td>5974</td>\n",
       "      <td>3901</td>\n",
       "      <td>3901.0</td>\n",
       "    </tr>\n",
       "    <tr>\n",
       "      <th>2022-01-01 03:00:00</th>\n",
       "      <td>4107</td>\n",
       "      <td>2686</td>\n",
       "      <td>2686.0</td>\n",
       "    </tr>\n",
       "    <tr>\n",
       "      <th>2022-01-01 04:00:00</th>\n",
       "      <td>2485</td>\n",
       "      <td>1651</td>\n",
       "      <td>1651.0</td>\n",
       "    </tr>\n",
       "    <tr>\n",
       "      <th>...</th>\n",
       "      <td>...</td>\n",
       "      <td>...</td>\n",
       "      <td>...</td>\n",
       "    </tr>\n",
       "    <tr>\n",
       "      <th>2023-04-18 10:00:00</th>\n",
       "      <td>0</td>\n",
       "      <td>0</td>\n",
       "      <td>0.0</td>\n",
       "    </tr>\n",
       "    <tr>\n",
       "      <th>2023-04-18 11:00:00</th>\n",
       "      <td>0</td>\n",
       "      <td>0</td>\n",
       "      <td>0.0</td>\n",
       "    </tr>\n",
       "    <tr>\n",
       "      <th>2023-04-18 12:00:00</th>\n",
       "      <td>0</td>\n",
       "      <td>0</td>\n",
       "      <td>0.0</td>\n",
       "    </tr>\n",
       "    <tr>\n",
       "      <th>2023-04-18 13:00:00</th>\n",
       "      <td>0</td>\n",
       "      <td>0</td>\n",
       "      <td>0.0</td>\n",
       "    </tr>\n",
       "    <tr>\n",
       "      <th>2023-04-18 14:00:00</th>\n",
       "      <td>1</td>\n",
       "      <td>1</td>\n",
       "      <td>1.0</td>\n",
       "    </tr>\n",
       "  </tbody>\n",
       "</table>\n",
       "<p>21624 rows × 3 columns</p>\n",
       "</div>"
      ],
      "text/plain": [
       "                      passenger_count  VendorID  PULocationID\n",
       "tpep_pickup_datetime                                         \n",
       "2022-01-01 00:00:00              6838      4261        4261.0\n",
       "2022-01-01 01:00:00              7738      4997        4997.0\n",
       "2022-01-01 02:00:00              5974      3901        3901.0\n",
       "2022-01-01 03:00:00              4107      2686        2686.0\n",
       "2022-01-01 04:00:00              2485      1651        1651.0\n",
       "...                               ...       ...           ...\n",
       "2023-04-18 10:00:00                 0         0           0.0\n",
       "2023-04-18 11:00:00                 0         0           0.0\n",
       "2023-04-18 12:00:00                 0         0           0.0\n",
       "2023-04-18 13:00:00                 0         0           0.0\n",
       "2023-04-18 14:00:00                 1         1           1.0\n",
       "\n",
       "[21624 rows x 3 columns]"
      ]
     },
     "execution_count": 94,
     "metadata": {},
     "output_type": "execute_result"
    }
   ],
   "source": [
    "data = df.set_index('tpep_pickup_datetime').copy()\n",
    "data.compute()"
   ]
  },
  {
   "cell_type": "code",
   "execution_count": 95,
   "id": "42f112f7-ddb4-429f-90d5-dc3407b59fe1",
   "metadata": {},
   "outputs": [
    {
     "data": {
      "text/plain": [
       "Index([1, 1, 1, 1, 1, 1, 1, 1, 1, 1,\n",
       "       ...\n",
       "       4, 4, 4, 4, 4, 4, 4, 4, 4, 4],\n",
       "      dtype='int32', name='tpep_pickup_datetime', length=21624)"
      ]
     },
     "execution_count": 95,
     "metadata": {},
     "output_type": "execute_result"
    }
   ],
   "source": [
    "data.index.month.compute()"
   ]
  },
  {
   "cell_type": "code",
   "execution_count": 100,
   "id": "a06a5556-5955-4ecd-88b8-bf3024f4a099",
   "metadata": {},
   "outputs": [],
   "source": [
    "def add_timed_features(df: pd.DataFrame) -> pd.DataFrame:\n",
    "    df['hour'] = df.index.hour\n",
    "    df['day'] = df.index.day\n",
    "    df['month'] = df.index.month\n",
    "    df['dayofweek'] = df.index.dayofweek\n",
    "    return df"
   ]
  },
  {
   "cell_type": "code",
   "execution_count": 104,
   "id": "33030190-3c30-4725-ba01-d5aa1e94e381",
   "metadata": {},
   "outputs": [],
   "source": [
    "# add_timed_features(data)"
   ]
  },
  {
   "cell_type": "code",
   "execution_count": null,
   "id": "4845f77c-2052-476c-9002-0cb7dfdf94e5",
   "metadata": {},
   "outputs": [],
   "source": []
  }
 ],
 "metadata": {
  "kernelspec": {
   "display_name": "Python 3 (ipykernel)",
   "language": "python",
   "name": "python3"
  },
  "language_info": {
   "codemirror_mode": {
    "name": "ipython",
    "version": 3
   },
   "file_extension": ".py",
   "mimetype": "text/x-python",
   "name": "python",
   "nbconvert_exporter": "python",
   "pygments_lexer": "ipython3",
   "version": "3.10.6"
  }
 },
 "nbformat": 4,
 "nbformat_minor": 5
}
