{
 "cells": [
  {
   "cell_type": "markdown",
   "id": "35f93e94-db37-4111-b7c8-3706ccedb122",
   "metadata": {},
   "source": [
    "# Import Necessary Libraries"
   ]
  },
  {
   "cell_type": "code",
   "execution_count": 3,
   "id": "b85bf045-cf30-434c-a68c-d451ddf5f4cc",
   "metadata": {},
   "outputs": [],
   "source": [
    "import pandas as pd\n",
    "import numpy as np\n",
    "import seaborn as sns"
   ]
  },
  {
   "cell_type": "markdown",
   "id": "4c5eca64-8a6d-44f5-8b3e-96d348606dc3",
   "metadata": {},
   "source": [
    "# Data Loading"
   ]
  },
  {
   "cell_type": "code",
   "execution_count": 8,
   "id": "49894603-16ba-4ec4-ae27-1e36b2c9aa0b",
   "metadata": {},
   "outputs": [
    {
     "data": {
      "text/html": [
       "<div>\n",
       "<style scoped>\n",
       "    .dataframe tbody tr th:only-of-type {\n",
       "        vertical-align: middle;\n",
       "    }\n",
       "\n",
       "    .dataframe tbody tr th {\n",
       "        vertical-align: top;\n",
       "    }\n",
       "\n",
       "    .dataframe thead th {\n",
       "        text-align: right;\n",
       "    }\n",
       "</style>\n",
       "<table border=\"1\" class=\"dataframe\">\n",
       "  <thead>\n",
       "    <tr style=\"text-align: right;\">\n",
       "      <th></th>\n",
       "      <th>tpep_pickup_datetime</th>\n",
       "      <th>passenger_count</th>\n",
       "      <th>VendorID</th>\n",
       "    </tr>\n",
       "  </thead>\n",
       "  <tbody>\n",
       "    <tr>\n",
       "      <th>0</th>\n",
       "      <td>2022-03-31 15:00:00</td>\n",
       "      <td>4</td>\n",
       "      <td>4</td>\n",
       "    </tr>\n",
       "    <tr>\n",
       "      <th>1</th>\n",
       "      <td>2022-03-31 16:00:00</td>\n",
       "      <td>3</td>\n",
       "      <td>3</td>\n",
       "    </tr>\n",
       "    <tr>\n",
       "      <th>2</th>\n",
       "      <td>2022-03-31 17:00:00</td>\n",
       "      <td>0</td>\n",
       "      <td>0</td>\n",
       "    </tr>\n",
       "    <tr>\n",
       "      <th>3</th>\n",
       "      <td>2022-03-31 18:00:00</td>\n",
       "      <td>0</td>\n",
       "      <td>0</td>\n",
       "    </tr>\n",
       "    <tr>\n",
       "      <th>4</th>\n",
       "      <td>2022-03-31 19:00:00</td>\n",
       "      <td>0</td>\n",
       "      <td>0</td>\n",
       "    </tr>\n",
       "  </tbody>\n",
       "</table>\n",
       "</div>"
      ],
      "text/plain": [
       "  tpep_pickup_datetime  passenger_count  VendorID\n",
       "0  2022-03-31 15:00:00                4         4\n",
       "1  2022-03-31 16:00:00                3         3\n",
       "2  2022-03-31 17:00:00                0         0\n",
       "3  2022-03-31 18:00:00                0         0\n",
       "4  2022-03-31 19:00:00                0         0"
      ]
     },
     "execution_count": 8,
     "metadata": {},
     "output_type": "execute_result"
    }
   ],
   "source": [
    "data = pd.read_csv(\"C:/Users/SRA/Desktop/backup/C/MLgrit/time_series_project/uber-taxi-demand/data/2022.parquet.csv\")\n",
    "data.head()"
   ]
  },
  {
   "cell_type": "code",
   "execution_count": 9,
   "id": "69bd8494-5ee0-4aad-b914-fcfe855143ca",
   "metadata": {},
   "outputs": [
    {
     "data": {
      "text/plain": [
       "(21624, 3)"
      ]
     },
     "execution_count": 9,
     "metadata": {},
     "output_type": "execute_result"
    }
   ],
   "source": [
    "data.shape"
   ]
  },
  {
   "cell_type": "markdown",
   "id": "ac4ed565-2d00-459f-b86d-1579843874ab",
   "metadata": {},
   "source": [
    "# Checking Duplicates"
   ]
  },
  {
   "cell_type": "code",
   "execution_count": 11,
   "id": "56af637f-736c-4670-8060-7c9e0b5959a0",
   "metadata": {},
   "outputs": [
    {
     "name": "stdout",
     "output_type": "stream",
     "text": [
      "0        False\n",
      "1        False\n",
      "2        False\n",
      "3        False\n",
      "4        False\n",
      "         ...  \n",
      "21619    False\n",
      "21620    False\n",
      "21621    False\n",
      "21622    False\n",
      "21623    False\n",
      "Length: 21624, dtype: bool\n"
     ]
    }
   ],
   "source": [
    "duplicates = data.duplicated()\n",
    "print(duplicates)"
   ]
  },
  {
   "cell_type": "code",
   "execution_count": 12,
   "id": "8e8b6494-0625-43a7-b373-4a539cd69923",
   "metadata": {},
   "outputs": [
    {
     "name": "stdout",
     "output_type": "stream",
     "text": [
      "False    18610\n",
      "True      3014\n",
      "Name: count, dtype: int64\n"
     ]
    }
   ],
   "source": [
    "# Check for duplicate values\n",
    "value_counts  = data.duplicated().value_counts()\n",
    "print(value_counts )"
   ]
  },
  {
   "cell_type": "markdown",
   "id": "c282be03-06f6-4ba3-9362-3fe02c9153a4",
   "metadata": {},
   "source": [
    "### As we can see there is 3014 duplicates values we have to remove it"
   ]
  },
  {
   "cell_type": "markdown",
   "id": "9300d33c-543c-4467-8f17-7699ef227443",
   "metadata": {},
   "source": [
    "# Droping Duplicates"
   ]
  },
  {
   "cell_type": "code",
   "execution_count": 19,
   "id": "5f83aa26-c2e7-4c60-b429-b0c3cef0cdda",
   "metadata": {},
   "outputs": [],
   "source": [
    "drop_duplicates = data.drop_duplicates()"
   ]
  },
  {
   "cell_type": "code",
   "execution_count": 17,
   "id": "0c3b7e91-dd6f-4957-8728-23218c0612d3",
   "metadata": {},
   "outputs": [
    {
     "name": "stdout",
     "output_type": "stream",
     "text": [
      "False    18610\n",
      "Name: count, dtype: int64\n"
     ]
    }
   ],
   "source": [
    "# Check for duplicate values again now\n",
    "value_counts  = drop_duplicates.duplicated().value_counts()\n",
    "print(value_counts )"
   ]
  },
  {
   "cell_type": "markdown",
   "id": "dc004f6b-1b73-45a1-88ac-f4c07a9b11a8",
   "metadata": {},
   "source": [
    "# Handling Missing Values\n",
    "- Detect\n",
    "- Remove or Drop\n",
    "- Filtering\n",
    "- if the data is categorical then we have to use \"Mode\"\n",
    "- if data is numerical, we have to use \"mean\", and \"median\"."
   ]
  },
  {
   "cell_type": "markdown",
   "id": "2b0f0945-5fe0-4692-81d2-978cb7b051a3",
   "metadata": {},
   "source": [
    "# Detect Missing values"
   ]
  },
  {
   "cell_type": "code",
   "execution_count": 21,
   "id": "9014a07a-fc9e-46e7-b285-f93bb8e7d5a9",
   "metadata": {},
   "outputs": [
    {
     "data": {
      "text/html": [
       "<div>\n",
       "<style scoped>\n",
       "    .dataframe tbody tr th:only-of-type {\n",
       "        vertical-align: middle;\n",
       "    }\n",
       "\n",
       "    .dataframe tbody tr th {\n",
       "        vertical-align: top;\n",
       "    }\n",
       "\n",
       "    .dataframe thead th {\n",
       "        text-align: right;\n",
       "    }\n",
       "</style>\n",
       "<table border=\"1\" class=\"dataframe\">\n",
       "  <thead>\n",
       "    <tr style=\"text-align: right;\">\n",
       "      <th></th>\n",
       "      <th>tpep_pickup_datetime</th>\n",
       "      <th>passenger_count</th>\n",
       "      <th>VendorID</th>\n",
       "    </tr>\n",
       "  </thead>\n",
       "  <tbody>\n",
       "    <tr>\n",
       "      <th>0</th>\n",
       "      <td>False</td>\n",
       "      <td>False</td>\n",
       "      <td>False</td>\n",
       "    </tr>\n",
       "    <tr>\n",
       "      <th>1</th>\n",
       "      <td>False</td>\n",
       "      <td>False</td>\n",
       "      <td>False</td>\n",
       "    </tr>\n",
       "    <tr>\n",
       "      <th>2</th>\n",
       "      <td>False</td>\n",
       "      <td>False</td>\n",
       "      <td>False</td>\n",
       "    </tr>\n",
       "    <tr>\n",
       "      <th>3</th>\n",
       "      <td>False</td>\n",
       "      <td>False</td>\n",
       "      <td>False</td>\n",
       "    </tr>\n",
       "    <tr>\n",
       "      <th>4</th>\n",
       "      <td>False</td>\n",
       "      <td>False</td>\n",
       "      <td>False</td>\n",
       "    </tr>\n",
       "    <tr>\n",
       "      <th>...</th>\n",
       "      <td>...</td>\n",
       "      <td>...</td>\n",
       "      <td>...</td>\n",
       "    </tr>\n",
       "    <tr>\n",
       "      <th>21619</th>\n",
       "      <td>False</td>\n",
       "      <td>False</td>\n",
       "      <td>False</td>\n",
       "    </tr>\n",
       "    <tr>\n",
       "      <th>21620</th>\n",
       "      <td>False</td>\n",
       "      <td>False</td>\n",
       "      <td>False</td>\n",
       "    </tr>\n",
       "    <tr>\n",
       "      <th>21621</th>\n",
       "      <td>False</td>\n",
       "      <td>False</td>\n",
       "      <td>False</td>\n",
       "    </tr>\n",
       "    <tr>\n",
       "      <th>21622</th>\n",
       "      <td>False</td>\n",
       "      <td>False</td>\n",
       "      <td>False</td>\n",
       "    </tr>\n",
       "    <tr>\n",
       "      <th>21623</th>\n",
       "      <td>False</td>\n",
       "      <td>False</td>\n",
       "      <td>False</td>\n",
       "    </tr>\n",
       "  </tbody>\n",
       "</table>\n",
       "<p>21624 rows × 3 columns</p>\n",
       "</div>"
      ],
      "text/plain": [
       "       tpep_pickup_datetime  passenger_count  VendorID\n",
       "0                     False            False     False\n",
       "1                     False            False     False\n",
       "2                     False            False     False\n",
       "3                     False            False     False\n",
       "4                     False            False     False\n",
       "...                     ...              ...       ...\n",
       "21619                 False            False     False\n",
       "21620                 False            False     False\n",
       "21621                 False            False     False\n",
       "21622                 False            False     False\n",
       "21623                 False            False     False\n",
       "\n",
       "[21624 rows x 3 columns]"
      ]
     },
     "execution_count": 21,
     "metadata": {},
     "output_type": "execute_result"
    }
   ],
   "source": [
    "data.isnull()"
   ]
  },
  {
   "cell_type": "code",
   "execution_count": 22,
   "id": "a8c201dd-e9db-4a7d-a31c-d7f55e7cb588",
   "metadata": {},
   "outputs": [
    {
     "data": {
      "text/plain": [
       "tpep_pickup_datetime    0\n",
       "passenger_count         0\n",
       "VendorID                0\n",
       "dtype: int64"
      ]
     },
     "execution_count": 22,
     "metadata": {},
     "output_type": "execute_result"
    }
   ],
   "source": [
    "data.isnull().sum()"
   ]
  },
  {
   "cell_type": "code",
   "execution_count": 23,
   "id": "129615f1-2a3b-4e51-958d-65e529874170",
   "metadata": {},
   "outputs": [
    {
     "data": {
      "text/plain": [
       "0    3\n",
       "Name: count, dtype: int64"
      ]
     },
     "execution_count": 23,
     "metadata": {},
     "output_type": "execute_result"
    }
   ],
   "source": [
    "data.isnull().sum().value_counts()"
   ]
  },
  {
   "cell_type": "code",
   "execution_count": 24,
   "id": "383d644d-7c61-42cc-addf-b802820e259c",
   "metadata": {},
   "outputs": [
    {
     "data": {
      "text/plain": [
       "0        0\n",
       "1        0\n",
       "2        0\n",
       "3        0\n",
       "4        0\n",
       "        ..\n",
       "21619    0\n",
       "21620    0\n",
       "21621    0\n",
       "21622    0\n",
       "21623    0\n",
       "Length: 21624, dtype: int64"
      ]
     },
     "execution_count": 24,
     "metadata": {},
     "output_type": "execute_result"
    }
   ],
   "source": [
    "data.isnull().sum(axis=1)"
   ]
  },
  {
   "cell_type": "code",
   "execution_count": 25,
   "id": "70184375-afcb-4708-a7b7-aff2369aa9cf",
   "metadata": {},
   "outputs": [
    {
     "data": {
      "text/plain": [
       "0    21624\n",
       "Name: count, dtype: int64"
      ]
     },
     "execution_count": 25,
     "metadata": {},
     "output_type": "execute_result"
    }
   ],
   "source": [
    "data.isnull().sum(axis=1).value_counts()"
   ]
  },
  {
   "cell_type": "code",
   "execution_count": 29,
   "id": "6ea58cc4-ff2a-4ed6-8886-7990e3c135d1",
   "metadata": {},
   "outputs": [
    {
     "data": {
      "text/plain": [
       "passenger_count\n",
       "False    21624\n",
       "Name: count, dtype: int64"
      ]
     },
     "execution_count": 29,
     "metadata": {},
     "output_type": "execute_result"
    }
   ],
   "source": [
    "passenger_count = data['passenger_count'].value_counts()\n",
    "passenger_count"
   ]
  },
  {
   "cell_type": "code",
   "execution_count": 30,
   "id": "99c5844b-fbac-4e2d-a667-81dee2ac4fe1",
   "metadata": {},
   "outputs": [
    {
     "data": {
      "text/plain": [
       "0"
      ]
     },
     "execution_count": 30,
     "metadata": {},
     "output_type": "execute_result"
    }
   ],
   "source": [
    "passenger_count.isnull().sum()"
   ]
  },
  {
   "cell_type": "code",
   "execution_count": 28,
   "id": "2c6f2407-ea8b-476c-bea0-7cce2c519eb6",
   "metadata": {},
   "outputs": [
    {
     "data": {
      "text/plain": [
       "VendorID\n",
       "False    21624\n",
       "Name: count, dtype: int64"
      ]
     },
     "execution_count": 28,
     "metadata": {},
     "output_type": "execute_result"
    }
   ],
   "source": [
    "VendorID = data['VendorID'].value_counts()\n",
    "VendorID"
   ]
  },
  {
   "cell_type": "code",
   "execution_count": 31,
   "id": "4b134995-bf6e-488b-9c29-e623f04871dc",
   "metadata": {},
   "outputs": [
    {
     "data": {
      "text/plain": [
       "0"
      ]
     },
     "execution_count": 31,
     "metadata": {},
     "output_type": "execute_result"
    }
   ],
   "source": [
    "VendorID.isnull().sum()"
   ]
  },
  {
   "cell_type": "markdown",
   "id": "434a36b9-7e01-4007-8477-3acd82c77936",
   "metadata": {},
   "source": [
    "### There is no Missing Value"
   ]
  },
  {
   "cell_type": "markdown",
   "id": "a25aff62-632a-446f-ba2f-083937cf60d1",
   "metadata": {},
   "source": [
    "# Remove or Drop"
   ]
  },
  {
   "cell_type": "code",
   "execution_count": 36,
   "id": "efaa5ad8-8e6a-436e-8409-ca0b28496dea",
   "metadata": {},
   "outputs": [],
   "source": [
    "#### data.dropna(inplace=True)\n",
    "\n",
    "# Drop a single row by index\n",
    "#### data.drop(2, inplace=True)\n",
    "\n",
    "# Drop multiple rows by indices\n",
    "#### data.drop([1, 3], inplace=True)\n",
    "\n",
    "# Specify the column name with null values\n",
    "# column_name = 'passenger_count'\n",
    "# data = data[data[column_name].notna()]"
   ]
  },
  {
   "cell_type": "markdown",
   "id": "d70915c9-22b7-49d7-bd37-dae561a7e1ca",
   "metadata": {},
   "source": [
    "### Filling with Median:\n",
    "- <b>When to Use:</b> The median is a robust measure of central tendency and is a good choice when you have numeric data with a skewed distribution, outliers, or continuous variables. It's less sensitive to extreme values compared to the mean.\n",
    "- Use the median when the dataset has numerical data and the null values are randomly distributed or when you want to fill in missing values in a way that doesn't depend on the sequence of data points.\n",
    "- This is a common approach when you're working with numerical features like age, income, or any other continuous variable.\n",
    "\n",
    "- <b>Example:</b> In a dataset of people's ages, if there are null values, filling them with the median age is a reasonable choice. It won't be significantly affected by outliers, and it preserves the overall distribution\n",
    "- <b>When data numerical, continues but randomly distributed</b>"
   ]
  },
  {
   "cell_type": "code",
   "execution_count": 34,
   "id": "24f4f228-7125-4bf0-98a9-5d115a5b1d11",
   "metadata": {},
   "outputs": [],
   "source": [
    "#### passenger_count = passenger_count.fillna(price.median())\n",
    "#### passenger_count"
   ]
  },
  {
   "cell_type": "code",
   "execution_count": 35,
   "id": "6e61c01f-bde0-4bb3-87f4-c8ae55ed88c9",
   "metadata": {},
   "outputs": [],
   "source": [
    "#### new2 = passenger_count.ffill()\n",
    "#### new2.isnull().sum()"
   ]
  },
  {
   "cell_type": "markdown",
   "id": "0b0fd705-44dc-4cdb-bb18-c11136ce690b",
   "metadata": {},
   "source": [
    "### Filling from the previous row\n",
    "Filling missing values with the previous row's value is a suitable approach when your data meets the following conditions:\n",
    "\n",
    "- <b>Numerical:</b> Your data consists of numerical values, such as integers or real numbers.\n",
    "- <b>Continuous:</b> The data represents a continuous variable, meaning that there are no discrete categories, and values can take any numeric value within a rang\n",
    "\n",
    "- <b>Ordered :</b> Your data is naturally ordered or follows a sequence, such as time-series data, where values occur in a specific order or hava temporal relationship.\n",
    "### Filling from next row\n",
    "- Same as like previous row"
   ]
  },
  {
   "cell_type": "code",
   "execution_count": 39,
   "id": "e7e170ad-ef2a-4b21-85e0-50def8e2a7df",
   "metadata": {},
   "outputs": [],
   "source": [
    "#### new3 = passenger_count.bfill()\n",
    "#### new3.isnull().sum()"
   ]
  },
  {
   "cell_type": "code",
   "execution_count": 38,
   "id": "85523add-9f6d-4e4f-a408-0b245ad51013",
   "metadata": {},
   "outputs": [],
   "source": [
    "### Filtering"
   ]
  },
  {
   "cell_type": "markdown",
   "id": "5446ea9f-5b96-4a2e-8389-bd3de662fc3f",
   "metadata": {},
   "source": [
    "## Handling Outliers\n",
    "- Ways to handle\n",
    "    - Detect Outliers\n",
    "    - Dropping outliers\n",
    "    - Imputation - Median\n",
    "    - Quantile-based flooring and capping\n",
    "    - Transformations - Log transformation can help to reduce the effect of outliers\n",
    "- if the data is categorical then we have to use \"Mode\"\n",
    "- if data is numerical, we have to use \"mean\", and \"median\".\n",
    "- IsolationForest\n",
    "- pyod"
   ]
  },
  {
   "cell_type": "markdown",
   "id": "aef5b7c0-2b00-479d-9c5b-2be6ce71fb1c",
   "metadata": {},
   "source": [
    "# Detect Outliers"
   ]
  },
  {
   "cell_type": "code",
   "execution_count": 40,
   "id": "4fa34827-13c0-423c-96fb-74add3b99caa",
   "metadata": {},
   "outputs": [
    {
     "data": {
      "text/plain": [
       "<Axes: xlabel='passenger_count'>"
      ]
     },
     "execution_count": 40,
     "metadata": {},
     "output_type": "execute_result"
    },
    {
     "data": {
      "image/png": "[encoded data removed]",
      "text/plain": [
       "<Figure size 640x480 with 1 Axes>"
      ]
     },
     "metadata": {},
     "output_type": "display_data"
    }
   ],
   "source": [
    "sns.boxenplot(data = data, x = \"passenger_count\")"
   ]
  },
  {
   "cell_type": "code",
   "execution_count": 41,
   "id": "be8cd2e0-e95f-4af2-8d76-66f3b675e626",
   "metadata": {},
   "outputs": [
    {
     "data": {
      "text/plain": [
       "<Axes: xlabel='passenger_count'>"
      ]
     },
     "execution_count": 41,
     "metadata": {},
     "output_type": "execute_result"
    },
    {
     "data": {
      "image/png": "[encoded data removed]",
      "text/plain": [
       "<Figure size 640x480 with 1 Axes>"
      ]
     },
     "metadata": {},
     "output_type": "display_data"
    }
   ],
   "source": [
    "sns.violinplot(data = data, x = \"passenger_count\")"
   ]
  },
  {
   "cell_type": "code",
   "execution_count": 42,
   "id": "23f275aa-2bc0-4004-86da-db93818f4b88",
   "metadata": {},
   "outputs": [
    {
     "data": {
      "text/plain": [
       "<Axes: xlabel='VendorID'>"
      ]
     },
     "execution_count": 42,
     "metadata": {},
     "output_type": "execute_result"
    },
    {
     "data": {
      "image/png": "[encoded data removed]",
      "text/plain": [
       "<Figure size 640x480 with 1 Axes>"
      ]
     },
     "metadata": {},
     "output_type": "display_data"
    }
   ],
   "source": [
    "sns.boxenplot(data = data, x = \"VendorID\")"
   ]
  },
  {
   "cell_type": "code",
   "execution_count": 43,
   "id": "6637bb1d-c0c0-4adc-92c8-b0c414621237",
   "metadata": {},
   "outputs": [
    {
     "data": {
      "text/plain": [
       "<Axes: xlabel='VendorID'>"
      ]
     },
     "execution_count": 43,
     "metadata": {},
     "output_type": "execute_result"
    },
    {
     "data": {
      "image/png": "[encoded data removed]",
      "text/plain": [
       "<Figure size 640x480 with 1 Axes>"
      ]
     },
     "metadata": {},
     "output_type": "display_data"
    }
   ],
   "source": [
    "sns.violinplot(data = data, x = \"VendorID\")"
   ]
  },
  {
   "cell_type": "markdown",
   "id": "39a10066-e01c-47c5-8667-a87c21363835",
   "metadata": {},
   "source": [
    "### There is no outliers in \"VendorID\" and \"passenger_count\""
   ]
  },
  {
   "cell_type": "markdown",
   "id": "e797a56f-7ecb-4b23-835e-e52640ecec18",
   "metadata": {},
   "source": [
    "# IQR (Inter quartile Range) Method:"
   ]
  },
  {
   "cell_type": "code",
   "execution_count": 46,
   "id": "5576db98-6692-4c65-bc90-56aefc761e1e",
   "metadata": {},
   "outputs": [],
   "source": [
    "# # using IQR\n",
    "# q1 = data['passenger_count'].quantile(0.25) # 25% \n",
    "# q3 = data['passenger_count'].quantile(0.75) #75%\n",
    "# q1, q3"
   ]
  },
  {
   "cell_type": "code",
   "execution_count": 47,
   "id": "c2bfbab8-e186-4458-bff4-4c9ee006a97d",
   "metadata": {},
   "outputs": [],
   "source": [
    "# #### Determine the distance between the quartiles(IQR)\n",
    "# IQR = q3 - q1 #(16503.0 - 7788.0)\n",
    "# IQR"
   ]
  },
  {
   "cell_type": "code",
   "execution_count": null,
   "id": "b5c80aea-8a68-489e-b24a-aae2c276b27f",
   "metadata": {},
   "outputs": [],
   "source": [
    "# lower = q1 - (1.5*IQR) # 7788.0 - ( 1.5 * 8715.0 )\n",
    "# upper = q3 + (1.5*IQR) # 16503.0 + ( 1.5 * 8715.0 )"
   ]
  },
  {
   "cell_type": "code",
   "execution_count": 48,
   "id": "b3bcefa6-bcbc-4458-8943-5941062d9142",
   "metadata": {},
   "outputs": [],
   "source": [
    "# lower, upper"
   ]
  },
  {
   "cell_type": "code",
   "execution_count": 50,
   "id": "bc8dade0-1ebf-4482-adb0-841d7a39ec11",
   "metadata": {},
   "outputs": [],
   "source": [
    "# filtered_data = data[(data['passenger_count'] > upper) | (data['passenger_count'] < lower)]\n",
    "# filtered_data"
   ]
  },
  {
   "cell_type": "markdown",
   "id": "d3cea25e-bd2e-4806-85d1-e7dcc6e5551e",
   "metadata": {},
   "source": [
    "# Remove or Droping Outliers"
   ]
  },
  {
   "cell_type": "code",
   "execution_count": 51,
   "id": "f90ee327-6f11-42c7-a5fc-4518cd7f60a0",
   "metadata": {},
   "outputs": [],
   "source": [
    "# data1 = data.copy()"
   ]
  },
  {
   "cell_type": "markdown",
   "id": "2113a6f9-4d2a-45b3-8325-0d66e795ff78",
   "metadata": {},
   "source": [
    "- <b>Way 1 Dropping Them</b>"
   ]
  },
  {
   "cell_type": "code",
   "execution_count": 52,
   "id": "2ce2e3d4-c58d-4ee9-b50b-2804692fd58d",
   "metadata": {},
   "outputs": [],
   "source": [
    "# data_drop_outliers = data1[~((data1['passenger_count'] > upper) | (data1['passenger_count'] < lower))]\n",
    "# data_drop_outliers"
   ]
  },
  {
   "cell_type": "code",
   "execution_count": 53,
   "id": "ad559db6-c05b-427e-bfa5-582f47620da4",
   "metadata": {},
   "outputs": [],
   "source": [
    "# outliers = data1[((data1['passenger_count'] > upper) | (data1['passenger_count'] < lower))].index\n",
    "# print(outliers)"
   ]
  },
  {
   "cell_type": "code",
   "execution_count": null,
   "id": "1f77b580-3b9b-43d8-aa76-bdf4e54915cc",
   "metadata": {},
   "outputs": [],
   "source": [
    "# data1.drop(outliers, inplace = True)"
   ]
  },
  {
   "cell_type": "code",
   "execution_count": 54,
   "id": "b24fbeb1-0c49-4ed2-9b90-8755fb05650d",
   "metadata": {},
   "outputs": [],
   "source": [
    "# sns.boxplot(data=data1, x='passenger_count')"
   ]
  },
  {
   "cell_type": "markdown",
   "id": "e2a012c9-92c9-4494-93ff-02f5b6866af3",
   "metadata": {},
   "source": [
    "# Imputation - Median\n",
    "\n",
    "Imputation refers to the process of estimating or filling in missing or incomplete data in a dataset. This is typically done in statistical analysis, data preprocessing, or machine learning to handle missing values. There are various imputation techniques, such as mean imputation (replacing missing values with the mean of the available data), median imputation, mode imputation, and more advanced methods like regression imputation or K-nearest neighbors imputation. The goal of imputation is to provide a reasonable estimate for missing values while preserving the structure and integrity of the data."
   ]
  },
  {
   "cell_type": "code",
   "execution_count": 55,
   "id": "969db937-57b0-4a54-b371-aadd86ffd742",
   "metadata": {},
   "outputs": [],
   "source": [
    "# data2 = data.copy()"
   ]
  },
  {
   "cell_type": "markdown",
   "id": "34d832ec-882c-4c87-a72b-04eaf7319d86",
   "metadata": {},
   "source": [
    "- <b>Way 2 - Imputing With Median</b>"
   ]
  },
  {
   "cell_type": "code",
   "execution_count": 56,
   "id": "49f27767-44b6-4d3f-a8e8-89569bd59198",
   "metadata": {},
   "outputs": [],
   "source": [
    "# median = data2['passenger_count'].median()\n",
    "# data2.loc[((data2['passenger_count'] > upper) | (data2['passenger_count'] < lower)), 'passenger_count'] = median\n",
    "# data2"
   ]
  },
  {
   "cell_type": "code",
   "execution_count": 57,
   "id": "ccbfb3af-0229-4834-af10-9dda0b58230a",
   "metadata": {},
   "outputs": [],
   "source": [
    "# sns.boxplot(data=data2, x='passenger_count')"
   ]
  },
  {
   "cell_type": "markdown",
   "id": "1d963e82-7c27-4498-99d6-8b2276284231",
   "metadata": {},
   "source": [
    "# Quantile-based flooring and capping"
   ]
  },
  {
   "cell_type": "code",
   "execution_count": 58,
   "id": "978c66cc-f006-43df-8ba4-a53bc920b3da",
   "metadata": {},
   "outputs": [],
   "source": [
    "# data3 = data.copy()"
   ]
  },
  {
   "cell_type": "markdown",
   "id": "9775ca34-093d-423e-a793-ef0867592959",
   "metadata": {},
   "source": [
    "- <b>Way 3 - Flooring and Capping</b>"
   ]
  },
  {
   "cell_type": "code",
   "execution_count": 60,
   "id": "19eceb9c-1ff6-439c-870c-aaef3107700a",
   "metadata": {},
   "outputs": [],
   "source": [
    "# floor = data3['passenger_count'].quantile(0.010)\n",
    "# cap = data3['passenger_count'].quantile(0.90)"
   ]
  },
  {
   "cell_type": "code",
   "execution_count": 61,
   "id": "5f8d77c1-3c04-4b1c-8b66-8dd12f91129e",
   "metadata": {},
   "outputs": [],
   "source": [
    "# data3.loc[(data3['passenger_count'] > upper), 'passenger_count'] = cap\n",
    "# data3.loc[(data3['passenger_count'] < lower), 'passenger_count'] = floor"
   ]
  },
  {
   "cell_type": "code",
   "execution_count": 63,
   "id": "f3f11370-094a-437f-b26b-9bedf35a12c6",
   "metadata": {},
   "outputs": [],
   "source": [
    "# sns.boxplot(data=data3, x='passenger_count')"
   ]
  },
  {
   "cell_type": "markdown",
   "id": "d3cea7bb-8dca-49bc-a2d3-cd9361d3b508",
   "metadata": {},
   "source": [
    "# Transformations - Log transformation can help to reduce the effect of outliers"
   ]
  },
  {
   "cell_type": "code",
   "execution_count": null,
   "id": "0065ce1b-1b66-483f-bb3c-97002214adce",
   "metadata": {},
   "outputs": [],
   "source": [
    "# data4 = data.copy()"
   ]
  },
  {
   "cell_type": "markdown",
   "id": "2ebc376c-0282-4a97-b719-c3a2fd0e40cf",
   "metadata": {},
   "source": [
    "- <b>Way - 4 Log Transformation</b>"
   ]
  },
  {
   "cell_type": "code",
   "execution_count": 65,
   "id": "6e5fe8fe-47dc-4876-b261-1cbe894493eb",
   "metadata": {},
   "outputs": [],
   "source": [
    "# way4 = np.log(data4.passenger_count)\n",
    "# way4"
   ]
  },
  {
   "cell_type": "code",
   "execution_count": 67,
   "id": "6e20b22e-57eb-4fb2-a76d-e60268e843c2",
   "metadata": {},
   "outputs": [],
   "source": [
    "# data4['passenger_count'] = way4"
   ]
  },
  {
   "cell_type": "code",
   "execution_count": 68,
   "id": "a6034eda-bf70-4281-90a1-a0f9ff252aeb",
   "metadata": {},
   "outputs": [],
   "source": [
    "# sns.boxplot(data=data4, x='passenger_count')"
   ]
  },
  {
   "cell_type": "markdown",
   "id": "eaf47829-9d10-450c-9f89-5adfc4b7aa7b",
   "metadata": {},
   "source": [
    "# Save Clean Data"
   ]
  },
  {
   "cell_type": "code",
   "execution_count": 69,
   "id": "2b02a87b-c421-45b0-a07c-f36511325d69",
   "metadata": {},
   "outputs": [],
   "source": [
    "data.to_csv(r\"C:/Users/SRA/Desktop/backup/C/MLgrit/time_series_project/uber-taxi-demand/data/2022.Clean_Data.csv\")"
   ]
  },
  {
   "cell_type": "markdown",
   "id": "c5e04a41-2243-40f0-9942-bc812b112565",
   "metadata": {},
   "source": [
    "# Fixing Syntax Error"
   ]
  },
  {
   "cell_type": "code",
   "execution_count": null,
   "id": "2bcee07a-c5c9-4b88-9274-15b66140365c",
   "metadata": {},
   "outputs": [],
   "source": []
  },
  {
   "cell_type": "code",
   "execution_count": null,
   "id": "f0a07197-625b-4a0b-b3a5-a7472ac1de6e",
   "metadata": {},
   "outputs": [],
   "source": []
  },
  {
   "cell_type": "code",
   "execution_count": null,
   "id": "e596445e-ab96-4c09-862f-54edf579d331",
   "metadata": {},
   "outputs": [],
   "source": []
  },
  {
   "cell_type": "code",
   "execution_count": null,
   "id": "7a988d93-52b4-49f9-813f-52913631f26f",
   "metadata": {},
   "outputs": [],
   "source": []
  }
 ],
 "metadata": {
  "kernelspec": {
   "display_name": "Python 3 (ipykernel)",
   "language": "python",
   "name": "python3"
  },
  "language_info": {
   "codemirror_mode": {
    "name": "ipython",
    "version": 3
   },
   "file_extension": ".py",
   "mimetype": "text/x-python",
   "name": "python",
   "nbconvert_exporter": "python",
   "pygments_lexer": "ipython3",
   "version": "3.10.6"
  }
 },
 "nbformat": 4,
 "nbformat_minor": 5
}
